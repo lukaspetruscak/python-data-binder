import pandas as pd
import sqlite3

conn = sqlite3.connect('../data/Chinook_Sqlite.sqlite')
df = pd.read_sql("SELECT * FROM customers LIMIT 5;", conn)
df
